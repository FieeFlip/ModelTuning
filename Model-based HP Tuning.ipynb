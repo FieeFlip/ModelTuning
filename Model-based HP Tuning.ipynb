{
 "cells": [
  {
   "cell_type": "markdown",
   "metadata": {},
   "source": [
    "# 基于模型来调参\n",
    "用模型来调参"
   ]
  },
  {
   "cell_type": "markdown",
   "metadata": {},
   "source": [
    "## 参数空间采样\n",
    "怎么在参数空间采样呢？已经有现成的lib可以用了:\n",
    "\n",
    "ConfigurationSpace: https://automl.github.io/ConfigSpace/master/"
   ]
  },
  {
   "cell_type": "code",
   "execution_count": 5,
   "metadata": {},
   "outputs": [],
   "source": [
    "import ConfigSpace as CS\n",
    "import ConfigSpace.hyperparameters as CSH"
   ]
  },
  {
   "cell_type": "code",
   "execution_count": 7,
   "metadata": {},
   "outputs": [
    {
     "data": {
      "text/plain": [
       "[a, Type: UniformInteger, Range: [10, 100], Default: 55,\n",
       " b, Type: Categorical, Choices: {red, blue, yellow}, Default: red]"
      ]
     },
     "execution_count": 7,
     "metadata": {},
     "output_type": "execute_result"
    }
   ],
   "source": [
    "cs = CS.ConfigurationSpace(seed=2021)\n",
    "a = CSH.UniformIntegerHyperparameter('a', lower=10, upper=100, log=False)\n",
    "b = CSH.CategoricalHyperparameter('b', choices=['red', 'blue', 'yellow'])\n",
    "cs.add_hyperparameters([a, b])"
   ]
  },
  {
   "cell_type": "code",
   "execution_count": 8,
   "metadata": {},
   "outputs": [
    {
     "data": {
      "text/plain": [
       "Configuration:\n",
       "  a, Value: 65\n",
       "  b, Value: 'blue'"
      ]
     },
     "execution_count": 8,
     "metadata": {},
     "output_type": "execute_result"
    }
   ],
   "source": [
    "cs.sample_configuration()"
   ]
  },
  {
   "cell_type": "markdown",
   "metadata": {},
   "source": [
    "## 构建超参优化器\n",
    "最早都是用高斯过程最为estimator来进行调参的，但是最近的研究显示树模型也很适合做estimator，而且高斯过程也不支持类目特征，所以用XGBoost做estimator当然是最合适的。"
   ]
  },
  {
   "cell_type": "code",
   "execution_count": null,
   "metadata": {},
   "outputs": [],
   "source": [
    "import pandas as pd\n",
    "import numpy as np\n",
    "\n",
    "\n",
    "class Optimizer:\n",
    "    \"\"\"\n",
    "    This class optimise an algorithm/model configuration with respect to a given score.\n",
    "    \"\"\"\n",
    "    def __init__(self,\n",
    "                 algo_score,\n",
    "                 max_iter,\n",
    "                 max_intensification,\n",
    "                 model,\n",
    "                 cs):\n",
    "        \"\"\"\n",
    "        :param algo_score: is the function called to evaluate algorithm / model score\n",
    "        :param max_iter: the maximal number of training to perform\n",
    "        :param max_intensification: the maximal number of candidates configuration to sample randomly\n",
    "        :param model: the class of the internal model used as score estimator.\n",
    "        :param cs: the configuration space to explore\n",
    "        \"\"\"\n",
    "        self.traj = []\n",
    "        self.algo_score = algo_score # 打分模型\n",
    "        self.max_iter = max_iter # 迭代次数，停止条件可以按需求更改\n",
    "        self.max_intensification = max_intensification # 候选参数组合随机的个数\n",
    "        self.internal_model = model() # 评估参数模型\n",
    "        self.trajectory = [] # 记录每次优化后的参数组合\n",
    "        self.cfgs = []\n",
    "        self.scores = {}\n",
    "        self.best_cfg = None\n",
    "        self.best_score = None\n",
    "        self.cs = cs\n",
    "\n",
    "    def cfg_to_dtf(self, cfgs):\n",
    "        \"\"\"\n",
    "        Convert configs list into pandas DataFrame to ease learning\n",
    "        \"\"\"\n",
    "        cfgs = [dict(cfg) for cfg in cfgs]\n",
    "        dtf = pd.DataFrame(cfgs)\n",
    "        return dtf\n",
    "\n",
    "\n",
    "    def optimize(self):\n",
    "        \"\"\"\n",
    "        Optimize algo/model using internal score estimator\n",
    "        \"\"\"\n",
    "        cfg = self.cs.sample_configuration()\n",
    "        self.cfgs.append(cfg)\n",
    "        self.trajectory.append(cfg)\n",
    "        # initial run\n",
    "        score = self.algo_score(cfg)\n",
    "        self.scores[cfg] = score\n",
    "        self.best_cfg = cfg\n",
    "        self.best_score = score\n",
    "\n",
    "        dtf = self.cfg_to_dtf(self.cfgs)\n",
    "\n",
    "        for i in range(0, self.max_iter):\n",
    "            # We need at least two datapoints for training\n",
    "            # 至少2个数据才能训练调参模型\n",
    "            if dtf.shape[0] > 1:\n",
    "                scores = np.array([ val for key, val in self.scores.items()])\n",
    "                \n",
    "                # 用于调参的模型fit（参数与score）\n",
    "                self.internal_model.fit(dtf, scores) \n",
    "                \n",
    "                # intensification\n",
    "                candidates = [self.cs.sample_configuration() for i in range(0, self.max_intensification)]\n",
    "                candidate_scores = [self.internal_model.predict(self.cfg_to_dtf([cfg])) for cfg in candidates]\n",
    "                best_candidates = np.argmax(candidate_scores)\n",
    "\n",
    "                cfg = candidates[best_candidates]\n",
    "                self.cfgs.append(cfg)\n",
    "                score = self.algo_score(cfg)\n",
    "                self.scores[cfg] = score\n",
    "\n",
    "                if score > self.best_score:\n",
    "                    self.best_cfg = cfg\n",
    "                    self.best_score = score\n",
    "                    self.trajectory.append(cfg)\n",
    "\n",
    "                dtf = self.cfg_to_dtf(self.cfgs)\n",
    "                self.internal_model.fit(dtf,\n",
    "                                        np.array([val for kay, val in self.scores.items()]))\n",
    "            else:\n",
    "                cfg = self.cs.sample_configuration()\n",
    "                self.cfgs.append(cfg)\n",
    "                score = self.algo_score(cfg)\n",
    "                self.scores[cfg] = score\n",
    "\n",
    "                if score > self.best_score:\n",
    "                    self.best_cfg = cfg\n",
    "                    self.best_score = score\n",
    "                    self.trajectory.append(cfg)\n",
    "                dtf = self.cfg_to_dtf(self.cfgs)"
   ]
  },
  {
   "cell_type": "markdown",
   "metadata": {},
   "source": [
    "把algo_score换成需要调参数的model，并把internal_model替换成用于调参的model，就可以自动搜寻参数啦，还等什么，快去尝试下吧！"
   ]
  },
  {
   "cell_type": "code",
   "execution_count": null,
   "metadata": {},
   "outputs": [],
   "source": []
  }
 ],
 "metadata": {
  "kernelspec": {
   "display_name": "Python 3",
   "language": "python",
   "name": "python3"
  },
  "language_info": {
   "codemirror_mode": {
    "name": "ipython",
    "version": 3
   },
   "file_extension": ".py",
   "mimetype": "text/x-python",
   "name": "python",
   "nbconvert_exporter": "python",
   "pygments_lexer": "ipython3",
   "version": "3.7.0"
  }
 },
 "nbformat": 4,
 "nbformat_minor": 2
}
